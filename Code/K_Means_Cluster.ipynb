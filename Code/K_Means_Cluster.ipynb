{
 "cells": [
  {
   "cell_type": "markdown",
   "id": "c9de5821",
   "metadata": {},
   "source": [
    "# K-Means Clustering"
   ]
  },
  {
   "cell_type": "markdown",
   "id": "2e987045",
   "metadata": {},
   "source": [
    "## Import Libraries"
   ]
  },
  {
   "cell_type": "code",
   "execution_count": 1,
   "id": "77600451",
   "metadata": {},
   "outputs": [],
   "source": [
    "import warnings\n",
    "warnings.filterwarnings(\"ignore\")\n",
    "import pandas as pd\n",
    "import matplotlib.pyplot as plt\n",
    "import seaborn as sns \n",
    "%matplotlib inline\n",
    "from sklearn.preprocessing import StandardScaler\n",
    "from sklearn.cluster import KMeans\n",
    "from sklearn.metrics import silhouette_score\n",
    "from tqdm.notebook import tqdm"
   ]
  },
  {
   "cell_type": "markdown",
   "id": "0392ce0c",
   "metadata": {},
   "source": [
    "## Create Dataframe and Explore Data"
   ]
  },
  {
   "cell_type": "code",
   "execution_count": 2,
   "id": "91ac8817",
   "metadata": {},
   "outputs": [],
   "source": [
    "collection = pd.read_csv(\"../Files/spotify_songs.csv\")"
   ]
  },
  {
   "cell_type": "code",
   "execution_count": 3,
   "id": "b4881d2d",
   "metadata": {},
   "outputs": [
    {
     "name": "stdout",
     "output_type": "stream",
     "text": [
      "<class 'pandas.core.frame.DataFrame'>\n",
      "RangeIndex: 86766 entries, 0 to 86765\n",
      "Data columns (total 20 columns):\n",
      " #   Column            Non-Null Count  Dtype  \n",
      "---  ------            --------------  -----  \n",
      " 0   id                86766 non-null  object \n",
      " 1   song              86766 non-null  object \n",
      " 2   artist            86766 non-null  object \n",
      " 3   danceability      86766 non-null  float64\n",
      " 4   energy            86766 non-null  float64\n",
      " 5   key               86766 non-null  int64  \n",
      " 6   loudness          86766 non-null  float64\n",
      " 7   mode              86766 non-null  int64  \n",
      " 8   speechiness       86766 non-null  float64\n",
      " 9   acousticness      86766 non-null  float64\n",
      " 10  instrumentalness  86766 non-null  float64\n",
      " 11  liveness          86766 non-null  float64\n",
      " 12  valence           86766 non-null  float64\n",
      " 13  tempo             86766 non-null  float64\n",
      " 14  type              86766 non-null  object \n",
      " 15  uri               86766 non-null  object \n",
      " 16  track_href        86766 non-null  object \n",
      " 17  analysis_url      86766 non-null  object \n",
      " 18  duration_ms       86766 non-null  int64  \n",
      " 19  time_signature    86766 non-null  int64  \n",
      "dtypes: float64(9), int64(4), object(7)\n",
      "memory usage: 13.2+ MB\n"
     ]
    }
   ],
   "source": [
    "collection.info()"
   ]
  },
  {
   "cell_type": "code",
   "execution_count": 4,
   "id": "942ad4f2",
   "metadata": {},
   "outputs": [
    {
     "data": {
      "text/plain": [
       "1269"
      ]
     },
     "execution_count": 4,
     "metadata": {},
     "output_type": "execute_result"
    }
   ],
   "source": [
    "# Return number of unique artists\n",
    "collection[\"artist\"].nunique()"
   ]
  },
  {
   "cell_type": "code",
   "execution_count": 5,
   "id": "bae3c77b",
   "metadata": {},
   "outputs": [
    {
     "data": {
      "text/html": [
       "<div>\n",
       "<style scoped>\n",
       "    .dataframe tbody tr th:only-of-type {\n",
       "        vertical-align: middle;\n",
       "    }\n",
       "\n",
       "    .dataframe tbody tr th {\n",
       "        vertical-align: top;\n",
       "    }\n",
       "\n",
       "    .dataframe thead th {\n",
       "        text-align: right;\n",
       "    }\n",
       "</style>\n",
       "<table border=\"1\" class=\"dataframe\">\n",
       "  <thead>\n",
       "    <tr style=\"text-align: right;\">\n",
       "      <th></th>\n",
       "      <th>danceability</th>\n",
       "      <th>energy</th>\n",
       "      <th>key</th>\n",
       "      <th>loudness</th>\n",
       "      <th>mode</th>\n",
       "      <th>speechiness</th>\n",
       "      <th>acousticness</th>\n",
       "      <th>instrumentalness</th>\n",
       "      <th>liveness</th>\n",
       "      <th>valence</th>\n",
       "      <th>tempo</th>\n",
       "    </tr>\n",
       "  </thead>\n",
       "  <tbody>\n",
       "    <tr>\n",
       "      <th>0</th>\n",
       "      <td>0.249</td>\n",
       "      <td>0.452</td>\n",
       "      <td>2</td>\n",
       "      <td>-7.126</td>\n",
       "      <td>1</td>\n",
       "      <td>0.0303</td>\n",
       "      <td>0.550</td>\n",
       "      <td>0.4270</td>\n",
       "      <td>0.0614</td>\n",
       "      <td>0.0676</td>\n",
       "      <td>142.352</td>\n",
       "    </tr>\n",
       "    <tr>\n",
       "      <th>1</th>\n",
       "      <td>0.336</td>\n",
       "      <td>0.761</td>\n",
       "      <td>3</td>\n",
       "      <td>-6.259</td>\n",
       "      <td>1</td>\n",
       "      <td>0.0353</td>\n",
       "      <td>0.037</td>\n",
       "      <td>0.0155</td>\n",
       "      <td>0.1630</td>\n",
       "      <td>0.4230</td>\n",
       "      <td>96.008</td>\n",
       "    </tr>\n",
       "    <tr>\n",
       "      <th>2</th>\n",
       "      <td>0.507</td>\n",
       "      <td>0.790</td>\n",
       "      <td>0</td>\n",
       "      <td>-7.307</td>\n",
       "      <td>0</td>\n",
       "      <td>0.0294</td>\n",
       "      <td>0.233</td>\n",
       "      <td>0.1390</td>\n",
       "      <td>0.1450</td>\n",
       "      <td>0.6000</td>\n",
       "      <td>147.065</td>\n",
       "    </tr>\n",
       "    <tr>\n",
       "      <th>3</th>\n",
       "      <td>0.376</td>\n",
       "      <td>0.560</td>\n",
       "      <td>11</td>\n",
       "      <td>-6.631</td>\n",
       "      <td>1</td>\n",
       "      <td>0.0253</td>\n",
       "      <td>0.568</td>\n",
       "      <td>0.1930</td>\n",
       "      <td>0.1560</td>\n",
       "      <td>0.1790</td>\n",
       "      <td>160.329</td>\n",
       "    </tr>\n",
       "    <tr>\n",
       "      <th>4</th>\n",
       "      <td>0.572</td>\n",
       "      <td>0.424</td>\n",
       "      <td>5</td>\n",
       "      <td>-9.225</td>\n",
       "      <td>1</td>\n",
       "      <td>0.0268</td>\n",
       "      <td>0.729</td>\n",
       "      <td>0.0914</td>\n",
       "      <td>0.0930</td>\n",
       "      <td>0.4770</td>\n",
       "      <td>96.065</td>\n",
       "    </tr>\n",
       "  </tbody>\n",
       "</table>\n",
       "</div>"
      ],
      "text/plain": [
       "   danceability  energy  key  loudness  mode  speechiness  acousticness  \\\n",
       "0         0.249   0.452    2    -7.126     1       0.0303         0.550   \n",
       "1         0.336   0.761    3    -6.259     1       0.0353         0.037   \n",
       "2         0.507   0.790    0    -7.307     0       0.0294         0.233   \n",
       "3         0.376   0.560   11    -6.631     1       0.0253         0.568   \n",
       "4         0.572   0.424    5    -9.225     1       0.0268         0.729   \n",
       "\n",
       "   instrumentalness  liveness  valence    tempo  \n",
       "0            0.4270    0.0614   0.0676  142.352  \n",
       "1            0.0155    0.1630   0.4230   96.008  \n",
       "2            0.1390    0.1450   0.6000  147.065  \n",
       "3            0.1930    0.1560   0.1790  160.329  \n",
       "4            0.0914    0.0930   0.4770   96.065  "
      ]
     },
     "execution_count": 5,
     "metadata": {},
     "output_type": "execute_result"
    }
   ],
   "source": [
    "# Drop irrelevant columns\n",
    "collection = collection.drop([\"id\", \"song\", \"artist\", \"type\", \"uri\",\n",
    "            \"track_href\", \"analysis_url\", \"duration_ms\", \"time_signature\"], axis=1)\n",
    "collection.head()"
   ]
  },
  {
   "cell_type": "code",
   "execution_count": 6,
   "id": "79bf898a",
   "metadata": {},
   "outputs": [
    {
     "name": "stdout",
     "output_type": "stream",
     "text": [
      "<class 'pandas.core.frame.DataFrame'>\n",
      "RangeIndex: 86766 entries, 0 to 86765\n",
      "Data columns (total 11 columns):\n",
      " #   Column            Non-Null Count  Dtype  \n",
      "---  ------            --------------  -----  \n",
      " 0   danceability      86766 non-null  float64\n",
      " 1   energy            86766 non-null  float64\n",
      " 2   key               86766 non-null  float64\n",
      " 3   loudness          86766 non-null  float64\n",
      " 4   mode              86766 non-null  float64\n",
      " 5   speechiness       86766 non-null  float64\n",
      " 6   acousticness      86766 non-null  float64\n",
      " 7   instrumentalness  86766 non-null  float64\n",
      " 8   liveness          86766 non-null  float64\n",
      " 9   valence           86766 non-null  float64\n",
      " 10  tempo             86766 non-null  float64\n",
      "dtypes: float64(11)\n",
      "memory usage: 7.3 MB\n"
     ]
    }
   ],
   "source": [
    "# Convert all remaining columns to float\n",
    "X = collection.astype({\"key\": \"float\", \"mode\": \"float\"})\n",
    "X.info()"
   ]
  },
  {
   "cell_type": "code",
   "execution_count": 7,
   "id": "8783a784",
   "metadata": {},
   "outputs": [
    {
     "data": {
      "text/html": [
       "<div>\n",
       "<style scoped>\n",
       "    .dataframe tbody tr th:only-of-type {\n",
       "        vertical-align: middle;\n",
       "    }\n",
       "\n",
       "    .dataframe tbody tr th {\n",
       "        vertical-align: top;\n",
       "    }\n",
       "\n",
       "    .dataframe thead th {\n",
       "        text-align: right;\n",
       "    }\n",
       "</style>\n",
       "<table border=\"1\" class=\"dataframe\">\n",
       "  <thead>\n",
       "    <tr style=\"text-align: right;\">\n",
       "      <th></th>\n",
       "      <th>danceability</th>\n",
       "      <th>energy</th>\n",
       "      <th>key</th>\n",
       "      <th>loudness</th>\n",
       "      <th>mode</th>\n",
       "      <th>speechiness</th>\n",
       "      <th>acousticness</th>\n",
       "      <th>instrumentalness</th>\n",
       "      <th>liveness</th>\n",
       "      <th>valence</th>\n",
       "      <th>tempo</th>\n",
       "    </tr>\n",
       "  </thead>\n",
       "  <tbody>\n",
       "    <tr>\n",
       "      <th>count</th>\n",
       "      <td>86766.000000</td>\n",
       "      <td>86766.000000</td>\n",
       "      <td>86766.00000</td>\n",
       "      <td>86766.000000</td>\n",
       "      <td>86766.000000</td>\n",
       "      <td>86766.000000</td>\n",
       "      <td>86766.000000</td>\n",
       "      <td>86766.000000</td>\n",
       "      <td>86766.000000</td>\n",
       "      <td>86766.000000</td>\n",
       "      <td>86766.000000</td>\n",
       "    </tr>\n",
       "    <tr>\n",
       "      <th>mean</th>\n",
       "      <td>0.526873</td>\n",
       "      <td>0.675389</td>\n",
       "      <td>5.26598</td>\n",
       "      <td>-7.708622</td>\n",
       "      <td>0.662206</td>\n",
       "      <td>0.077546</td>\n",
       "      <td>0.223599</td>\n",
       "      <td>0.166153</td>\n",
       "      <td>0.232763</td>\n",
       "      <td>0.454952</td>\n",
       "      <td>124.403009</td>\n",
       "    </tr>\n",
       "    <tr>\n",
       "      <th>std</th>\n",
       "      <td>0.170925</td>\n",
       "      <td>0.231334</td>\n",
       "      <td>3.61709</td>\n",
       "      <td>4.059341</td>\n",
       "      <td>0.472961</td>\n",
       "      <td>0.107409</td>\n",
       "      <td>0.299727</td>\n",
       "      <td>0.290500</td>\n",
       "      <td>0.213890</td>\n",
       "      <td>0.241974</td>\n",
       "      <td>28.678408</td>\n",
       "    </tr>\n",
       "    <tr>\n",
       "      <th>min</th>\n",
       "      <td>0.000000</td>\n",
       "      <td>0.000000</td>\n",
       "      <td>0.00000</td>\n",
       "      <td>-60.000000</td>\n",
       "      <td>0.000000</td>\n",
       "      <td>0.000000</td>\n",
       "      <td>0.000000</td>\n",
       "      <td>0.000000</td>\n",
       "      <td>0.000000</td>\n",
       "      <td>0.000000</td>\n",
       "      <td>0.000000</td>\n",
       "    </tr>\n",
       "    <tr>\n",
       "      <th>25%</th>\n",
       "      <td>0.407000</td>\n",
       "      <td>0.521000</td>\n",
       "      <td>2.00000</td>\n",
       "      <td>-9.340000</td>\n",
       "      <td>0.000000</td>\n",
       "      <td>0.034000</td>\n",
       "      <td>0.005070</td>\n",
       "      <td>0.000013</td>\n",
       "      <td>0.099500</td>\n",
       "      <td>0.261000</td>\n",
       "      <td>104.064000</td>\n",
       "    </tr>\n",
       "    <tr>\n",
       "      <th>50%</th>\n",
       "      <td>0.533000</td>\n",
       "      <td>0.724000</td>\n",
       "      <td>5.00000</td>\n",
       "      <td>-6.820000</td>\n",
       "      <td>1.000000</td>\n",
       "      <td>0.044600</td>\n",
       "      <td>0.058300</td>\n",
       "      <td>0.002700</td>\n",
       "      <td>0.137000</td>\n",
       "      <td>0.440000</td>\n",
       "      <td>124.004000</td>\n",
       "    </tr>\n",
       "    <tr>\n",
       "      <th>75%</th>\n",
       "      <td>0.649000</td>\n",
       "      <td>0.868000</td>\n",
       "      <td>9.00000</td>\n",
       "      <td>-5.037000</td>\n",
       "      <td>1.000000</td>\n",
       "      <td>0.071400</td>\n",
       "      <td>0.362000</td>\n",
       "      <td>0.178000</td>\n",
       "      <td>0.300000</td>\n",
       "      <td>0.639000</td>\n",
       "      <td>141.041000</td>\n",
       "    </tr>\n",
       "    <tr>\n",
       "      <th>max</th>\n",
       "      <td>0.991000</td>\n",
       "      <td>1.000000</td>\n",
       "      <td>11.00000</td>\n",
       "      <td>4.472000</td>\n",
       "      <td>1.000000</td>\n",
       "      <td>0.965000</td>\n",
       "      <td>0.996000</td>\n",
       "      <td>0.998000</td>\n",
       "      <td>1.000000</td>\n",
       "      <td>0.999000</td>\n",
       "      <td>242.708000</td>\n",
       "    </tr>\n",
       "  </tbody>\n",
       "</table>\n",
       "</div>"
      ],
      "text/plain": [
       "       danceability        energy          key      loudness          mode  \\\n",
       "count  86766.000000  86766.000000  86766.00000  86766.000000  86766.000000   \n",
       "mean       0.526873      0.675389      5.26598     -7.708622      0.662206   \n",
       "std        0.170925      0.231334      3.61709      4.059341      0.472961   \n",
       "min        0.000000      0.000000      0.00000    -60.000000      0.000000   \n",
       "25%        0.407000      0.521000      2.00000     -9.340000      0.000000   \n",
       "50%        0.533000      0.724000      5.00000     -6.820000      1.000000   \n",
       "75%        0.649000      0.868000      9.00000     -5.037000      1.000000   \n",
       "max        0.991000      1.000000     11.00000      4.472000      1.000000   \n",
       "\n",
       "        speechiness  acousticness  instrumentalness      liveness  \\\n",
       "count  86766.000000  86766.000000      86766.000000  86766.000000   \n",
       "mean       0.077546      0.223599          0.166153      0.232763   \n",
       "std        0.107409      0.299727          0.290500      0.213890   \n",
       "min        0.000000      0.000000          0.000000      0.000000   \n",
       "25%        0.034000      0.005070          0.000013      0.099500   \n",
       "50%        0.044600      0.058300          0.002700      0.137000   \n",
       "75%        0.071400      0.362000          0.178000      0.300000   \n",
       "max        0.965000      0.996000          0.998000      1.000000   \n",
       "\n",
       "            valence         tempo  \n",
       "count  86766.000000  86766.000000  \n",
       "mean       0.454952    124.403009  \n",
       "std        0.241974     28.678408  \n",
       "min        0.000000      0.000000  \n",
       "25%        0.261000    104.064000  \n",
       "50%        0.440000    124.004000  \n",
       "75%        0.639000    141.041000  \n",
       "max        0.999000    242.708000  "
      ]
     },
     "execution_count": 7,
     "metadata": {},
     "output_type": "execute_result"
    }
   ],
   "source": [
    "X.describe()"
   ]
  },
  {
   "cell_type": "code",
   "execution_count": 8,
   "id": "c7be7f10",
   "metadata": {},
   "outputs": [
    {
     "data": {
      "image/png": "[encoded data removed]",
      "text/plain": [
       "<Figure size 1440x1440 with 12 Axes>"
      ]
     },
     "metadata": {
      "needs_background": "light"
     },
     "output_type": "display_data"
    }
   ],
   "source": [
    "X.hist(figsize=(20,20));"
   ]
  },
  {
   "cell_type": "code",
   "execution_count": 9,
   "id": "74416747",
   "metadata": {},
   "outputs": [
    {
     "data": {
      "image/png": "[encoded data removed]",
      "text/plain": [
       "<Figure size 432x288 with 1 Axes>"
      ]
     },
     "metadata": {
      "needs_background": "light"
     },
     "output_type": "display_data"
    },
    {
     "data": {
      "image/png": "[encoded data removed]",
      "text/plain": [
       "<Figure size 432x288 with 1 Axes>"
      ]
     },
     "metadata": {
      "needs_background": "light"
     },
     "output_type": "display_data"
    },
    {
     "data": {
      "image/png": "[encoded data removed]",
      "text/plain": [
       "<Figure size 432x288 with 1 Axes>"
      ]
     },
     "metadata": {
      "needs_background": "light"
     },
     "output_type": "display_data"
    },
    {
     "data": {
      "image/png": "[encoded data removed]",
      "text/plain": [
       "<Figure size 432x288 with 1 Axes>"
      ]
     },
     "metadata": {
      "needs_background": "light"
     },
     "output_type": "display_data"
    },
    {
     "data": {
      "image/png": "[encoded data removed]",
      "text/plain": [
       "<Figure size 432x288 with 1 Axes>"
      ]
     },
     "metadata": {
      "needs_background": "light"
     },
     "output_type": "display_data"
    },
    {
     "data": {
      "image/png": "[encoded data removed]",
      "text/plain": [
       "<Figure size 432x288 with 1 Axes>"
      ]
     },
     "metadata": {
      "needs_background": "light"
     },
     "output_type": "display_data"
    },
    {
     "data": {
      "image/png": "[encoded data removed]",
      "text/plain": [
       "<Figure size 432x288 with 1 Axes>"
      ]
     },
     "metadata": {
      "needs_background": "light"
     },
     "output_type": "display_data"
    },
    {
     "data": {
      "image/png": "[encoded data removed]",
      "text/plain": [
       "<Figure size 432x288 with 1 Axes>"
      ]
     },
     "metadata": {
      "needs_background": "light"
     },
     "output_type": "display_data"
    },
    {
     "data": {
      "image/png": "[encoded data removed]",
      "text/plain": [
       "<Figure size 432x288 with 1 Axes>"
      ]
     },
     "metadata": {
      "needs_background": "light"
     },
     "output_type": "display_data"
    },
    {
     "data": {
      "image/png": "[encoded data removed]",
      "text/plain": [
       "<Figure size 432x288 with 1 Axes>"
      ]
     },
     "metadata": {
      "needs_background": "light"
     },
     "output_type": "display_data"
    },
    {
     "data": {
      "image/png": "[encoded data removed]",
      "text/plain": [
       "<Figure size 432x288 with 1 Axes>"
      ]
     },
     "metadata": {
      "needs_background": "light"
     },
     "output_type": "display_data"
    }
   ],
   "source": [
    "for column in X:\n",
    "    plt.figure()\n",
    "    X.boxplot([column])"
   ]
  },
  {
   "cell_type": "markdown",
   "id": "95e27d9a",
   "metadata": {},
   "source": [
    "## Prepare the Data"
   ]
  },
  {
   "cell_type": "code",
   "execution_count": 10,
   "id": "a4e46480",
   "metadata": {},
   "outputs": [],
   "source": [
    "# Scale data with the standard scaler\n",
    "X_scaled = StandardScaler().fit_transform(X)"
   ]
  },
  {
   "cell_type": "code",
   "execution_count": 11,
   "id": "d4501e69",
   "metadata": {},
   "outputs": [
    {
     "data": {
      "text/html": [
       "<div>\n",
       "<style scoped>\n",
       "    .dataframe tbody tr th:only-of-type {\n",
       "        vertical-align: middle;\n",
       "    }\n",
       "\n",
       "    .dataframe tbody tr th {\n",
       "        vertical-align: top;\n",
       "    }\n",
       "\n",
       "    .dataframe thead th {\n",
       "        text-align: right;\n",
       "    }\n",
       "</style>\n",
       "<table border=\"1\" class=\"dataframe\">\n",
       "  <thead>\n",
       "    <tr style=\"text-align: right;\">\n",
       "      <th></th>\n",
       "      <th>danceability</th>\n",
       "      <th>energy</th>\n",
       "      <th>key</th>\n",
       "      <th>loudness</th>\n",
       "      <th>mode</th>\n",
       "      <th>speechiness</th>\n",
       "      <th>acousticness</th>\n",
       "      <th>instrumentalness</th>\n",
       "      <th>liveness</th>\n",
       "      <th>valence</th>\n",
       "      <th>tempo</th>\n",
       "    </tr>\n",
       "  </thead>\n",
       "  <tbody>\n",
       "    <tr>\n",
       "      <th>0</th>\n",
       "      <td>-1.625714</td>\n",
       "      <td>-0.965660</td>\n",
       "      <td>-0.902936</td>\n",
       "      <td>0.143527</td>\n",
       "      <td>0.714215</td>\n",
       "      <td>-0.439870</td>\n",
       "      <td>1.089002</td>\n",
       "      <td>0.897930</td>\n",
       "      <td>-0.801179</td>\n",
       "      <td>-1.600810</td>\n",
       "      <td>0.625875</td>\n",
       "    </tr>\n",
       "    <tr>\n",
       "      <th>1</th>\n",
       "      <td>-1.116715</td>\n",
       "      <td>0.370077</td>\n",
       "      <td>-0.626469</td>\n",
       "      <td>0.357110</td>\n",
       "      <td>0.714215</td>\n",
       "      <td>-0.393319</td>\n",
       "      <td>-0.622567</td>\n",
       "      <td>-0.518603</td>\n",
       "      <td>-0.326165</td>\n",
       "      <td>-0.132048</td>\n",
       "      <td>-0.990124</td>\n",
       "    </tr>\n",
       "    <tr>\n",
       "      <th>2</th>\n",
       "      <td>-0.116268</td>\n",
       "      <td>0.495437</td>\n",
       "      <td>-1.455869</td>\n",
       "      <td>0.098938</td>\n",
       "      <td>-1.400138</td>\n",
       "      <td>-0.448249</td>\n",
       "      <td>0.031366</td>\n",
       "      <td>-0.093471</td>\n",
       "      <td>-0.410321</td>\n",
       "      <td>0.599440</td>\n",
       "      <td>0.790215</td>\n",
       "    </tr>\n",
       "    <tr>\n",
       "      <th>3</th>\n",
       "      <td>-0.882692</td>\n",
       "      <td>-0.498800</td>\n",
       "      <td>1.585267</td>\n",
       "      <td>0.265469</td>\n",
       "      <td>0.714215</td>\n",
       "      <td>-0.486422</td>\n",
       "      <td>1.149058</td>\n",
       "      <td>0.092417</td>\n",
       "      <td>-0.358892</td>\n",
       "      <td>-1.140427</td>\n",
       "      <td>1.252726</td>\n",
       "    </tr>\n",
       "    <tr>\n",
       "      <th>4</th>\n",
       "      <td>0.264019</td>\n",
       "      <td>-1.086698</td>\n",
       "      <td>-0.073535</td>\n",
       "      <td>-0.373555</td>\n",
       "      <td>0.714215</td>\n",
       "      <td>-0.472456</td>\n",
       "      <td>1.686217</td>\n",
       "      <td>-0.257328</td>\n",
       "      <td>-0.653438</td>\n",
       "      <td>0.091118</td>\n",
       "      <td>-0.988136</td>\n",
       "    </tr>\n",
       "  </tbody>\n",
       "</table>\n",
       "</div>"
      ],
      "text/plain": [
       "   danceability    energy       key  loudness      mode  speechiness  \\\n",
       "0     -1.625714 -0.965660 -0.902936  0.143527  0.714215    -0.439870   \n",
       "1     -1.116715  0.370077 -0.626469  0.357110  0.714215    -0.393319   \n",
       "2     -0.116268  0.495437 -1.455869  0.098938 -1.400138    -0.448249   \n",
       "3     -0.882692 -0.498800  1.585267  0.265469  0.714215    -0.486422   \n",
       "4      0.264019 -1.086698 -0.073535 -0.373555  0.714215    -0.472456   \n",
       "\n",
       "   acousticness  instrumentalness  liveness   valence     tempo  \n",
       "0      1.089002          0.897930 -0.801179 -1.600810  0.625875  \n",
       "1     -0.622567         -0.518603 -0.326165 -0.132048 -0.990124  \n",
       "2      0.031366         -0.093471 -0.410321  0.599440  0.790215  \n",
       "3      1.149058          0.092417 -0.358892 -1.140427  1.252726  \n",
       "4      1.686217         -0.257328 -0.653438  0.091118 -0.988136  "
      ]
     },
     "execution_count": 11,
     "metadata": {},
     "output_type": "execute_result"
    }
   ],
   "source": [
    "# Create dataframe of scaled features\n",
    "X_scaled = pd.DataFrame(X_scaled, columns=X.columns)\n",
    "X_scaled.head()"
   ]
  },
  {
   "cell_type": "markdown",
   "id": "34bccfb9",
   "metadata": {},
   "source": [
    "## Clustering"
   ]
  },
  {
   "cell_type": "code",
   "execution_count": 12,
   "id": "23f892d9",
   "metadata": {},
   "outputs": [],
   "source": [
    "# Define and fit the model\n",
    "kmeans = KMeans(n_clusters=8, random_state=40)\n",
    "kmeans.fit(X_scaled)\n",
    "\n",
    "# Predict / assign the clusters:\n",
    "clusters = kmeans.predict(X_scaled)\n",
    "\n",
    "X_cluster = pd.DataFrame(X)\n",
    "X_cluster[\"cluster\"] = clusters"
   ]
  },
  {
   "cell_type": "code",
   "execution_count": 13,
   "id": "bef160fb",
   "metadata": {},
   "outputs": [
    {
     "data": {
      "text/plain": [
       "array([[ 0.19533043,  0.16330601,  0.05192926, -0.08722493, -0.07725413,\n",
       "        -0.18922287, -0.29190284,  2.04519564, -0.26793784, -0.05703539,\n",
       "         0.04416617],\n",
       "       [ 0.43960131,  0.32990748,  0.35906805,  0.37124009, -1.40013842,\n",
       "        -0.00694944, -0.38453755, -0.39698657, -0.2285345 ,  0.38784764,\n",
       "        -0.06328489],\n",
       "       [-0.15052145, -1.34752809, -0.11702616, -0.81324753,  0.18129666,\n",
       "        -0.27500018,  1.389713  , -0.38653834, -0.29083245, -0.70841926,\n",
       "        -0.41233918],\n",
       "       [-0.82992832,  0.62749538, -0.10183996,  0.57203639,  0.47887064,\n",
       "        -0.0363191 , -0.57167937, -0.3711987 , -0.16541483, -0.26903096,\n",
       "         0.92685986],\n",
       "       [ 0.70218201, -1.54649768,  0.18665591, -2.6846324 ,  0.0260277 ,\n",
       "         6.58283457,  1.59977283, -0.49416371,  0.55555408,  0.44813178,\n",
       "        -0.71426736],\n",
       "       [-0.83030982, -1.69451542, -0.0784542 , -2.12752441, -0.05680855,\n",
       "        -0.27975631,  1.86158723,  2.01362711, -0.25958399, -1.10777037,\n",
       "        -0.52361879],\n",
       "       [ 0.62754792,  0.29861595, -0.15992794,  0.36249267,  0.7142151 ,\n",
       "        -0.06576998, -0.38017296, -0.43368724, -0.27204346,  0.66744745,\n",
       "        -0.27605849],\n",
       "       [-0.66071259,  0.54158832, -0.02225477,  0.15541845,  0.07757358,\n",
       "         0.09997108, -0.30808625, -0.131611  ,  2.65783998, -0.2733808 ,\n",
       "         0.05460193]])"
      ]
     },
     "execution_count": 13,
     "metadata": {},
     "output_type": "execute_result"
    }
   ],
   "source": [
    "# Cluster centers\n",
    "kmeans.cluster_centers_"
   ]
  },
  {
   "cell_type": "code",
   "execution_count": 14,
   "id": "44e4ae7c",
   "metadata": {},
   "outputs": [
    {
     "data": {
      "text/plain": [
       "0     9536\n",
       "1    16780\n",
       "2    13176\n",
       "3    15200\n",
       "4     1189\n",
       "5     3989\n",
       "6    19925\n",
       "7     6971\n",
       "dtype: int64"
      ]
     },
     "execution_count": 14,
     "metadata": {},
     "output_type": "execute_result"
    }
   ],
   "source": [
    "# Check the size of the clusters\n",
    "pd.Series(clusters).value_counts().sort_index()"
   ]
  },
  {
   "cell_type": "code",
   "execution_count": 15,
   "id": "8aaca9b9",
   "metadata": {},
   "outputs": [
    {
     "data": {
      "text/html": [
       "<div>\n",
       "<style scoped>\n",
       "    .dataframe tbody tr th:only-of-type {\n",
       "        vertical-align: middle;\n",
       "    }\n",
       "\n",
       "    .dataframe tbody tr th {\n",
       "        vertical-align: top;\n",
       "    }\n",
       "\n",
       "    .dataframe thead th {\n",
       "        text-align: right;\n",
       "    }\n",
       "</style>\n",
       "<table border=\"1\" class=\"dataframe\">\n",
       "  <thead>\n",
       "    <tr style=\"text-align: right;\">\n",
       "      <th></th>\n",
       "      <th>danceability</th>\n",
       "      <th>energy</th>\n",
       "      <th>key</th>\n",
       "      <th>loudness</th>\n",
       "      <th>mode</th>\n",
       "      <th>speechiness</th>\n",
       "      <th>acousticness</th>\n",
       "      <th>instrumentalness</th>\n",
       "      <th>liveness</th>\n",
       "      <th>valence</th>\n",
       "      <th>tempo</th>\n",
       "      <th>cluster</th>\n",
       "    </tr>\n",
       "  </thead>\n",
       "  <tbody>\n",
       "    <tr>\n",
       "      <th>0</th>\n",
       "      <td>0.249</td>\n",
       "      <td>0.452</td>\n",
       "      <td>2.0</td>\n",
       "      <td>-7.126</td>\n",
       "      <td>1.0</td>\n",
       "      <td>0.0303</td>\n",
       "      <td>0.5500</td>\n",
       "      <td>0.4270</td>\n",
       "      <td>0.0614</td>\n",
       "      <td>0.0676</td>\n",
       "      <td>142.352</td>\n",
       "      <td>2</td>\n",
       "    </tr>\n",
       "    <tr>\n",
       "      <th>1</th>\n",
       "      <td>0.336</td>\n",
       "      <td>0.761</td>\n",
       "      <td>3.0</td>\n",
       "      <td>-6.259</td>\n",
       "      <td>1.0</td>\n",
       "      <td>0.0353</td>\n",
       "      <td>0.0370</td>\n",
       "      <td>0.0155</td>\n",
       "      <td>0.1630</td>\n",
       "      <td>0.4230</td>\n",
       "      <td>96.008</td>\n",
       "      <td>3</td>\n",
       "    </tr>\n",
       "    <tr>\n",
       "      <th>2</th>\n",
       "      <td>0.507</td>\n",
       "      <td>0.790</td>\n",
       "      <td>0.0</td>\n",
       "      <td>-7.307</td>\n",
       "      <td>0.0</td>\n",
       "      <td>0.0294</td>\n",
       "      <td>0.2330</td>\n",
       "      <td>0.1390</td>\n",
       "      <td>0.1450</td>\n",
       "      <td>0.6000</td>\n",
       "      <td>147.065</td>\n",
       "      <td>1</td>\n",
       "    </tr>\n",
       "    <tr>\n",
       "      <th>3</th>\n",
       "      <td>0.376</td>\n",
       "      <td>0.560</td>\n",
       "      <td>11.0</td>\n",
       "      <td>-6.631</td>\n",
       "      <td>1.0</td>\n",
       "      <td>0.0253</td>\n",
       "      <td>0.5680</td>\n",
       "      <td>0.1930</td>\n",
       "      <td>0.1560</td>\n",
       "      <td>0.1790</td>\n",
       "      <td>160.329</td>\n",
       "      <td>3</td>\n",
       "    </tr>\n",
       "    <tr>\n",
       "      <th>4</th>\n",
       "      <td>0.572</td>\n",
       "      <td>0.424</td>\n",
       "      <td>5.0</td>\n",
       "      <td>-9.225</td>\n",
       "      <td>1.0</td>\n",
       "      <td>0.0268</td>\n",
       "      <td>0.7290</td>\n",
       "      <td>0.0914</td>\n",
       "      <td>0.0930</td>\n",
       "      <td>0.4770</td>\n",
       "      <td>96.065</td>\n",
       "      <td>2</td>\n",
       "    </tr>\n",
       "    <tr>\n",
       "      <th>5</th>\n",
       "      <td>0.489</td>\n",
       "      <td>0.467</td>\n",
       "      <td>1.0</td>\n",
       "      <td>-7.686</td>\n",
       "      <td>1.0</td>\n",
       "      <td>0.0284</td>\n",
       "      <td>0.3650</td>\n",
       "      <td>0.8720</td>\n",
       "      <td>0.0572</td>\n",
       "      <td>0.1460</td>\n",
       "      <td>104.887</td>\n",
       "      <td>0</td>\n",
       "    </tr>\n",
       "    <tr>\n",
       "      <th>6</th>\n",
       "      <td>0.440</td>\n",
       "      <td>0.510</td>\n",
       "      <td>3.0</td>\n",
       "      <td>-7.820</td>\n",
       "      <td>1.0</td>\n",
       "      <td>0.0275</td>\n",
       "      <td>0.5390</td>\n",
       "      <td>0.5760</td>\n",
       "      <td>0.0903</td>\n",
       "      <td>0.2200</td>\n",
       "      <td>81.097</td>\n",
       "      <td>2</td>\n",
       "    </tr>\n",
       "    <tr>\n",
       "      <th>7</th>\n",
       "      <td>0.495</td>\n",
       "      <td>0.569</td>\n",
       "      <td>0.0</td>\n",
       "      <td>-10.461</td>\n",
       "      <td>1.0</td>\n",
       "      <td>0.0289</td>\n",
       "      <td>0.6660</td>\n",
       "      <td>0.5050</td>\n",
       "      <td>0.1200</td>\n",
       "      <td>0.4220</td>\n",
       "      <td>168.034</td>\n",
       "      <td>2</td>\n",
       "    </tr>\n",
       "    <tr>\n",
       "      <th>8</th>\n",
       "      <td>0.179</td>\n",
       "      <td>0.483</td>\n",
       "      <td>3.0</td>\n",
       "      <td>-7.107</td>\n",
       "      <td>1.0</td>\n",
       "      <td>0.0327</td>\n",
       "      <td>0.7040</td>\n",
       "      <td>0.9430</td>\n",
       "      <td>0.1540</td>\n",
       "      <td>0.0593</td>\n",
       "      <td>121.117</td>\n",
       "      <td>5</td>\n",
       "    </tr>\n",
       "    <tr>\n",
       "      <th>9</th>\n",
       "      <td>0.528</td>\n",
       "      <td>0.797</td>\n",
       "      <td>9.0</td>\n",
       "      <td>-5.387</td>\n",
       "      <td>1.0</td>\n",
       "      <td>0.0440</td>\n",
       "      <td>0.0792</td>\n",
       "      <td>0.0000</td>\n",
       "      <td>0.3270</td>\n",
       "      <td>0.8770</td>\n",
       "      <td>160.848</td>\n",
       "      <td>6</td>\n",
       "    </tr>\n",
       "  </tbody>\n",
       "</table>\n",
       "</div>"
      ],
      "text/plain": [
       "   danceability  energy   key  loudness  mode  speechiness  acousticness  \\\n",
       "0         0.249   0.452   2.0    -7.126   1.0       0.0303        0.5500   \n",
       "1         0.336   0.761   3.0    -6.259   1.0       0.0353        0.0370   \n",
       "2         0.507   0.790   0.0    -7.307   0.0       0.0294        0.2330   \n",
       "3         0.376   0.560  11.0    -6.631   1.0       0.0253        0.5680   \n",
       "4         0.572   0.424   5.0    -9.225   1.0       0.0268        0.7290   \n",
       "5         0.489   0.467   1.0    -7.686   1.0       0.0284        0.3650   \n",
       "6         0.440   0.510   3.0    -7.820   1.0       0.0275        0.5390   \n",
       "7         0.495   0.569   0.0   -10.461   1.0       0.0289        0.6660   \n",
       "8         0.179   0.483   3.0    -7.107   1.0       0.0327        0.7040   \n",
       "9         0.528   0.797   9.0    -5.387   1.0       0.0440        0.0792   \n",
       "\n",
       "   instrumentalness  liveness  valence    tempo  cluster  \n",
       "0            0.4270    0.0614   0.0676  142.352        2  \n",
       "1            0.0155    0.1630   0.4230   96.008        3  \n",
       "2            0.1390    0.1450   0.6000  147.065        1  \n",
       "3            0.1930    0.1560   0.1790  160.329        3  \n",
       "4            0.0914    0.0930   0.4770   96.065        2  \n",
       "5            0.8720    0.0572   0.1460  104.887        0  \n",
       "6            0.5760    0.0903   0.2200   81.097        2  \n",
       "7            0.5050    0.1200   0.4220  168.034        2  \n",
       "8            0.9430    0.1540   0.0593  121.117        5  \n",
       "9            0.0000    0.3270   0.8770  160.848        6  "
      ]
     },
     "execution_count": 15,
     "metadata": {},
     "output_type": "execute_result"
    }
   ],
   "source": [
    "# Explore the cluster assignment by placing it in the original dataset\n",
    "X_cluster = pd.DataFrame(X)\n",
    "X_cluster[\"cluster\"] = clusters\n",
    "X_cluster.head(10)"
   ]
  },
  {
   "cell_type": "code",
   "execution_count": 16,
   "id": "103893ea",
   "metadata": {},
   "outputs": [
    {
     "data": {
      "text/plain": [
       "507689.18681367004"
      ]
     },
     "execution_count": 16,
     "metadata": {},
     "output_type": "execute_result"
    }
   ],
   "source": [
    "# Total inertia of all the centroids\n",
    "kmeans.inertia_"
   ]
  },
  {
   "cell_type": "code",
   "execution_count": 17,
   "id": "1fbbd8eb",
   "metadata": {},
   "outputs": [],
   "source": [
    "# Run K-means with all values of K, ranging from 2 to 30\n",
    "K = range(2, 30)"
   ]
  },
  {
   "cell_type": "code",
   "execution_count": 18,
   "id": "5eb8092a",
   "metadata": {},
   "outputs": [
    {
     "data": {
      "application/vnd.jupyter.widget-view+json": {
       "model_id": "0a85442fd3c7403d8fe4b7a9bad4f19b",
       "version_major": 2,
       "version_minor": 0
      },
      "text/plain": [
       "  0%|          | 0/28 [00:00<?, ?it/s]"
      ]
     },
     "metadata": {},
     "output_type": "display_data"
    },
    {
     "name": "stdout",
     "output_type": "stream",
     "text": [
      "[788036.4973548535, 716096.0572595489, 656926.7739418562, 605159.5925235363, 566060.2320668709, 531613.1569352685, 507689.18681367004, 488414.962701974, 473121.4831794744, 460631.2750249955, 447010.123463026, 437281.2429059601, 426655.3005744198, 417995.3605898911, 411717.8534448528, 406792.2529843583, 396675.65667194483, 390369.67612082994, 384549.53892646736, 377755.1266163625, 372903.5663323798, 368488.7917076235, 362541.71069087245, 356830.48720442806, 353503.2682252951, 350258.26451729186, 346051.07222728094, 343626.18380603625]\n"
     ]
    }
   ],
   "source": [
    "# For each model, store the inertia in a list\n",
    "inertia = []\n",
    "for k in tqdm(K):\n",
    "    kmeans = KMeans(n_clusters=k, random_state=40)\n",
    "    kmeans.fit(X_scaled)\n",
    "    inertia.append(kmeans.inertia_)\n",
    "\n",
    "print(inertia)"
   ]
  },
  {
   "cell_type": "code",
   "execution_count": 19,
   "id": "f350594d",
   "metadata": {
    "scrolled": true
   },
   "outputs": [
    {
     "data": {
      "text/plain": [
       "Text(0.5, 1.0, 'Elbow Method showing the optimal k')"
      ]
     },
     "execution_count": 19,
     "metadata": {},
     "output_type": "execute_result"
    },
    {
     "data": {
      "image/png": "[encoded data removed]",
      "text/plain": [
       "<Figure size 1152x576 with 1 Axes>"
      ]
     },
     "metadata": {
      "needs_background": "light"
     },
     "output_type": "display_data"
    }
   ],
   "source": [
    "# Plot the results\n",
    "import matplotlib.pyplot as plt\n",
    "import numpy as np\n",
    "%matplotlib inline\n",
    "\n",
    "plt.figure(figsize=(16,8))\n",
    "plt.plot(K, inertia, \"bx-\")\n",
    "plt.xlabel(\"k\")\n",
    "plt.ylabel(\"inertia\")\n",
    "plt.xticks(np.arange(min(K), max(K) + 1, 1.0))\n",
    "plt.title(\"Elbow Method showing the optimal k\")"
   ]
  },
  {
   "cell_type": "code",
   "execution_count": 20,
   "id": "135de164",
   "metadata": {},
   "outputs": [
    {
     "data": {
      "application/vnd.jupyter.widget-view+json": {
       "model_id": "d7d721ea8bbb4834a50c37102ffcd6b8",
       "version_major": 2,
       "version_minor": 0
      },
      "text/plain": [
       "  0%|          | 0/28 [00:00<?, ?it/s]"
      ]
     },
     "metadata": {},
     "output_type": "display_data"
    },
    {
     "name": "stdout",
     "output_type": "stream",
     "text": [
      "[0.23011882763089192, 0.14312572632418732, 0.13716405714656812, 0.16201980880832206, 0.1414740887467361, 0.14395218002206941, 0.1455745305390644, 0.13431822368528093, 0.12736567061554305, 0.12835921073016468, 0.12930219994534828, 0.13098826808100425, 0.12972553284329574, 0.12711039497545812, 0.12184823925126503, 0.12330033916842259, 0.12389306744742958, 0.12367985731902699, 0.12323869544854975, 0.12526013229641964, 0.12170892828166993, 0.11930243541806902, 0.12341430721185809, 0.12407683545553734, 0.12392374538332505, 0.12098967633686403, 0.1199760658839193, 0.11719357975411979]\n"
     ]
    }
   ],
   "source": [
    "# For each model, store the silhouette score in a list\n",
    "silhouettes = []\n",
    "for k in tqdm(K):\n",
    "    kmeans = KMeans(n_clusters=k, random_state=40)\n",
    "    kmeans.fit(X_scaled)\n",
    "    silhouettes.append(silhouette_score(X_scaled, kmeans.predict(X_scaled)))\n",
    "\n",
    "print(silhouettes)"
   ]
  },
  {
   "cell_type": "code",
   "execution_count": 21,
   "id": "1edc3dbf",
   "metadata": {},
   "outputs": [
    {
     "data": {
      "text/plain": [
       "Text(0, 0.5, 'silhouette score')"
      ]
     },
     "execution_count": 21,
     "metadata": {},
     "output_type": "execute_result"
    },
    {
     "data": {
      "image/png": "[encoded data removed]",
      "text/plain": [
       "<Figure size 1152x576 with 1 Axes>"
      ]
     },
     "metadata": {
      "needs_background": "light"
     },
     "output_type": "display_data"
    }
   ],
   "source": [
    "# Plot the results\n",
    "plt.figure(figsize=(16,8))\n",
    "plt.plot(K, silhouettes, \"bo-\")\n",
    "plt.xlabel(\"k (number of clusters)\")\n",
    "plt.xticks(np.arange(min(K), max(K) + 1, 1.0))\n",
    "plt.ylabel(\"silhouette score\")"
   ]
  }
 ],
 "metadata": {
  "kernelspec": {
   "display_name": "Python 3",
   "language": "python",
   "name": "python3"
  },
  "language_info": {
   "codemirror_mode": {
    "name": "ipython",
    "version": 3
   },
   "file_extension": ".py",
   "mimetype": "text/x-python",
   "name": "python",
   "nbconvert_exporter": "python",
   "pygments_lexer": "ipython3",
   "version": "3.8.8"
  },
  "toc": {
   "base_numbering": 1,
   "nav_menu": {},
   "number_sections": false,
   "sideBar": true,
   "skip_h1_title": true,
   "title_cell": "Table of Contents",
   "title_sidebar": "Contents",
   "toc_cell": false,
   "toc_position": {},
   "toc_section_display": true,
   "toc_window_display": true
  },
  "varInspector": {
   "cols": {
    "lenName": 16,
    "lenType": 16,
    "lenVar": 40
   },
   "kernels_config": {
    "python": {
     "delete_cmd_postfix": "",
     "delete_cmd_prefix": "del ",
     "library": "var_list.py",
     "varRefreshCmd": "print(var_dic_list())"
    },
    "r": {
     "delete_cmd_postfix": ") ",
     "delete_cmd_prefix": "rm(",
     "library": "var_list.r",
     "varRefreshCmd": "cat(var_dic_list()) "
    }
   },
   "types_to_exclude": [
    "module",
    "function",
    "builtin_function_or_method",
    "instance",
    "_Feature"
   ],
   "window_display": false
  }
 },
 "nbformat": 4,
 "nbformat_minor": 5
}
