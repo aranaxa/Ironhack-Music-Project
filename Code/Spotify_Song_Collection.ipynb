{
 "cells": [
  {
   "cell_type": "markdown",
   "metadata": {},
   "source": [
    "# Spotify Indie & Alternative Song Collection\n",
    "\n",
    "## Import Libraries"
   ]
  },
  {
   "cell_type": "code",
   "execution_count": 1,
   "metadata": {},
   "outputs": [],
   "source": [
    "from bs4 import BeautifulSoup\n",
    "import requests\n",
    "import pandas as pd\n",
    "from tqdm.notebook import tqdm\n",
    "import spotipy\n",
    "from spotipy.oauth2 import SpotifyClientCredentials\n",
    "import getpass"
   ]
  },
  {
   "cell_type": "markdown",
   "metadata": {},
   "source": [
    "## Set up Spotipy"
   ]
  },
  {
   "cell_type": "code",
   "execution_count": 2,
   "metadata": {},
   "outputs": [
    {
     "name": "stdout",
     "output_type": "stream",
     "text": [
      "Client ID: ········\n",
      "Client Secret: ········\n"
     ]
    }
   ],
   "source": [
    "# Store credentials \n",
    "client_id = str(getpass.getpass(\"Client ID: \"))\n",
    "client_secret = str(getpass.getpass(\"Client Secret: \"))"
   ]
  },
  {
   "cell_type": "code",
   "execution_count": 3,
   "metadata": {},
   "outputs": [],
   "source": [
    "# Initialize Spotipy with user credentias\n",
    "sp = spotipy.Spotify(auth_manager=SpotifyClientCredentials(\n",
    "    client_id = client_id,\n",
    "    client_secret = client_secret))"
   ]
  },
  {
   "cell_type": "markdown",
   "metadata": {},
   "source": [
    "## Get Playlists"
   ]
  },
  {
   "cell_type": "code",
   "execution_count": 4,
   "metadata": {},
   "outputs": [],
   "source": [
    "my_playlists = {\"4d2IEVL30L65AztSfZM8XF\": \"mac_lovin\",\n",
    "                \"08ITQREsf18K8L6kVVfN7S\": \"mac_lovin\",\n",
    "                \"5BR1O6Eqs0m13FUYmzwVnp\": \"mac_lovin\",\n",
    "                \"37i9dQZF1DWTpv9X85KmGq\": \"spotify\",\n",
    "                \"17tok3VH0FuwyVXuMKwmAA\": \"annanassaft\",\n",
    "                \"6Sr9J394N1si7jJDh3KuQQ\": \"default.rocks\",\n",
    "                \"37i9dQZF1DX9VBcReWYoP0\": \"spotify\",\n",
    "                \"37i9dQZF1DX8hcTuUCeYxa\": \"spotify\",\n",
    "                \"37i9dQZF1DWWM6GBnxtToT\": \"spotify\",\n",
    "                \"37i9dQZF1DWYJeWl6ior4d\": \"spotify\",\n",
    "                \"37i9dQZF1DX873GaRGUmPl\": \"spotify\",\n",
    "                \"37i9dQZF1DX0YKekzl0blG\": \"spotify\",\n",
    "                \"37i9dQZF1DX2Nc3B70tvx0\": \"spotify\",\n",
    "                \"37i9dQZF1DX35DWKgAk2B5\": \"spotify\",\n",
    "                \"37i9dQZF1DX9GRpeH4CL0S\": \"spotify\"\n",
    "                }"
   ]
  },
  {
   "cell_type": "code",
   "execution_count": 5,
   "metadata": {},
   "outputs": [
    {
     "data": {
      "application/vnd.jupyter.widget-view+json": {
       "model_id": "413aab6d007a48c1970a5f56ccb35c2e",
       "version_major": 2,
       "version_minor": 0
      },
      "text/plain": [
       "  0%|          | 0/15 [00:00<?, ?it/s]"
      ]
     },
     "metadata": {},
     "output_type": "display_data"
    }
   ],
   "source": [
    "# Request playlist details from Spotify\n",
    "playlists = [sp.user_playlist_tracks(user, playlist) for playlist, user in tqdm(my_playlists.items())]"
   ]
  },
  {
   "cell_type": "code",
   "execution_count": 6,
   "metadata": {},
   "outputs": [
    {
     "data": {
      "text/plain": [
       "15"
      ]
     },
     "execution_count": 6,
     "metadata": {},
     "output_type": "execute_result"
    }
   ],
   "source": [
    "len(playlists)"
   ]
  },
  {
   "cell_type": "markdown",
   "metadata": {},
   "source": [
    "## Get Artists"
   ]
  },
  {
   "cell_type": "code",
   "execution_count": 7,
   "metadata": {},
   "outputs": [],
   "source": [
    "# Create list of artist_ids\n",
    "artist_ids = []\n",
    "for playlist in playlists:\n",
    "    for track in playlist[\"items\"]:\n",
    "        try: \n",
    "            for artist in track[\"track\"][\"artists\"]:\n",
    "                artist_ids.append(artist[\"id\"])\n",
    "        except:\n",
    "            continue"
   ]
  },
  {
   "cell_type": "code",
   "execution_count": 8,
   "metadata": {},
   "outputs": [
    {
     "data": {
      "text/plain": [
       "1453"
      ]
     },
     "execution_count": 8,
     "metadata": {},
     "output_type": "execute_result"
    }
   ],
   "source": [
    "len(artist_ids)"
   ]
  },
  {
   "cell_type": "code",
   "execution_count": 9,
   "metadata": {},
   "outputs": [],
   "source": [
    "# Convert to set to remove duplicate artists\n",
    "artist_ids = list(set(artist_ids))"
   ]
  },
  {
   "cell_type": "code",
   "execution_count": 10,
   "metadata": {},
   "outputs": [
    {
     "data": {
      "text/plain": [
       "813"
      ]
     },
     "execution_count": 10,
     "metadata": {},
     "output_type": "execute_result"
    }
   ],
   "source": [
    "len(artist_ids)"
   ]
  },
  {
   "cell_type": "markdown",
   "metadata": {},
   "source": [
    "## Get Albums"
   ]
  },
  {
   "cell_type": "code",
   "execution_count": 11,
   "metadata": {},
   "outputs": [
    {
     "data": {
      "application/vnd.jupyter.widget-view+json": {
       "model_id": "eb53eff3f3f0455bbfc781508dbe6b50",
       "version_major": 2,
       "version_minor": 0
      },
      "text/plain": [
       "  0%|          | 0/813 [00:00<?, ?it/s]"
      ]
     },
     "metadata": {},
     "output_type": "display_data"
    }
   ],
   "source": [
    "# Request album details from Spotify\n",
    "albums = []\n",
    "for artist_id in tqdm(artist_ids):\n",
    "    try:\n",
    "        album = sp.artist_albums(artist_id, album_type=\"album\")\n",
    "        albums.append(album)\n",
    "    except:\n",
    "        continue"
   ]
  },
  {
   "cell_type": "code",
   "execution_count": 12,
   "metadata": {},
   "outputs": [],
   "source": [
    "# Create list of album_ids\n",
    "album_ids = []\n",
    "for album in albums:\n",
    "    for item in album[\"items\"]:\n",
    "        album_ids.append(item[\"id\"])  "
   ]
  },
  {
   "cell_type": "code",
   "execution_count": 13,
   "metadata": {},
   "outputs": [
    {
     "data": {
      "text/plain": [
       "6382"
      ]
     },
     "execution_count": 13,
     "metadata": {},
     "output_type": "execute_result"
    }
   ],
   "source": [
    "len(album_ids)"
   ]
  },
  {
   "cell_type": "code",
   "execution_count": 14,
   "metadata": {},
   "outputs": [],
   "source": [
    "# Convert to set to remove duplicate albums\n",
    "album_ids = list(set(album_ids))"
   ]
  },
  {
   "cell_type": "code",
   "execution_count": 15,
   "metadata": {},
   "outputs": [
    {
     "data": {
      "text/plain": [
       "6364"
      ]
     },
     "execution_count": 15,
     "metadata": {},
     "output_type": "execute_result"
    }
   ],
   "source": [
    "len(album_ids)"
   ]
  },
  {
   "cell_type": "markdown",
   "metadata": {},
   "source": [
    "## Get Tracks"
   ]
  },
  {
   "cell_type": "code",
   "execution_count": 16,
   "metadata": {},
   "outputs": [
    {
     "data": {
      "application/vnd.jupyter.widget-view+json": {
       "model_id": "ef4d796506af463ab9c506e3a6906339",
       "version_major": 2,
       "version_minor": 0
      },
      "text/plain": [
       "  0%|          | 0/6364 [00:00<?, ?it/s]"
      ]
     },
     "metadata": {},
     "output_type": "display_data"
    }
   ],
   "source": [
    "# Request album tracks from Spotify\n",
    "album_tracks = [sp.album_tracks(album_id) for album_id in tqdm(album_ids)]"
   ]
  },
  {
   "cell_type": "code",
   "execution_count": 17,
   "metadata": {
    "hide_input": true
   },
   "outputs": [
    {
     "data": {
      "text/plain": [
       "'Beach House'"
      ]
     },
     "execution_count": 17,
     "metadata": {},
     "output_type": "execute_result"
    }
   ],
   "source": [
    "album_tracks[0][\"items\"][0][\"artists\"][0][\"name\"]"
   ]
  },
  {
   "cell_type": "code",
   "execution_count": 18,
   "metadata": {},
   "outputs": [
    {
     "data": {
      "application/vnd.jupyter.widget-view+json": {
       "model_id": "ad91929f0f634fb9a68f5d699b855efb",
       "version_major": 2,
       "version_minor": 0
      },
      "text/plain": [
       "  0%|          | 0/6364 [00:00<?, ?it/s]"
      ]
     },
     "metadata": {},
     "output_type": "display_data"
    }
   ],
   "source": [
    "# Create tracks list including id, song and artist\n",
    "tracks = []\n",
    "for album_track in tqdm(album_tracks):\n",
    "    for item in album_track[\"items\"]:\n",
    "        tracks.append([item[\"id\"], item[\"name\"], item[\"artists\"][0][\"name\"]])"
   ]
  },
  {
   "cell_type": "code",
   "execution_count": 19,
   "metadata": {},
   "outputs": [],
   "source": [
    "# Create tracks dataframe including id, song and artist\n",
    "df_1 = pd.DataFrame(tracks, columns=[\"id\", \"song\", \"artist\"])"
   ]
  },
  {
   "cell_type": "code",
   "execution_count": 20,
   "metadata": {},
   "outputs": [
    {
     "data": {
      "text/html": [
       "<div>\n",
       "<style scoped>\n",
       "    .dataframe tbody tr th:only-of-type {\n",
       "        vertical-align: middle;\n",
       "    }\n",
       "\n",
       "    .dataframe tbody tr th {\n",
       "        vertical-align: top;\n",
       "    }\n",
       "\n",
       "    .dataframe thead th {\n",
       "        text-align: right;\n",
       "    }\n",
       "</style>\n",
       "<table border=\"1\" class=\"dataframe\">\n",
       "  <thead>\n",
       "    <tr style=\"text-align: right;\">\n",
       "      <th></th>\n",
       "      <th>id</th>\n",
       "      <th>song</th>\n",
       "      <th>artist</th>\n",
       "    </tr>\n",
       "  </thead>\n",
       "  <tbody>\n",
       "    <tr>\n",
       "      <th>0</th>\n",
       "      <td>7aciebfpMZffzCTSg9rLIZ</td>\n",
       "      <td>Levitation</td>\n",
       "      <td>Beach House</td>\n",
       "    </tr>\n",
       "    <tr>\n",
       "      <th>1</th>\n",
       "      <td>6bzeIyoDKQdJU3NWc56u3u</td>\n",
       "      <td>Sparks</td>\n",
       "      <td>Beach House</td>\n",
       "    </tr>\n",
       "    <tr>\n",
       "      <th>2</th>\n",
       "      <td>1ZgMsA55GIY7ICkQh5MILA</td>\n",
       "      <td>Space Song</td>\n",
       "      <td>Beach House</td>\n",
       "    </tr>\n",
       "    <tr>\n",
       "      <th>3</th>\n",
       "      <td>0fbKFguQCxauLvVZ262f4c</td>\n",
       "      <td>Beyond Love</td>\n",
       "      <td>Beach House</td>\n",
       "    </tr>\n",
       "    <tr>\n",
       "      <th>4</th>\n",
       "      <td>66rCCXbN1ggzjTYibdJp3n</td>\n",
       "      <td>10:37</td>\n",
       "      <td>Beach House</td>\n",
       "    </tr>\n",
       "  </tbody>\n",
       "</table>\n",
       "</div>"
      ],
      "text/plain": [
       "                       id         song       artist\n",
       "0  7aciebfpMZffzCTSg9rLIZ   Levitation  Beach House\n",
       "1  6bzeIyoDKQdJU3NWc56u3u       Sparks  Beach House\n",
       "2  1ZgMsA55GIY7ICkQh5MILA   Space Song  Beach House\n",
       "3  0fbKFguQCxauLvVZ262f4c  Beyond Love  Beach House\n",
       "4  66rCCXbN1ggzjTYibdJp3n        10:37  Beach House"
      ]
     },
     "execution_count": 20,
     "metadata": {},
     "output_type": "execute_result"
    }
   ],
   "source": [
    "df_1.head()"
   ]
  },
  {
   "cell_type": "code",
   "execution_count": 21,
   "metadata": {},
   "outputs": [
    {
     "name": "stdout",
     "output_type": "stream",
     "text": [
      "<class 'pandas.core.frame.DataFrame'>\n",
      "RangeIndex: 86772 entries, 0 to 86771\n",
      "Data columns (total 3 columns):\n",
      " #   Column  Non-Null Count  Dtype \n",
      "---  ------  --------------  ----- \n",
      " 0   id      86772 non-null  object\n",
      " 1   song    86772 non-null  object\n",
      " 2   artist  86772 non-null  object\n",
      "dtypes: object(3)\n",
      "memory usage: 2.0+ MB\n"
     ]
    }
   ],
   "source": [
    "df_1.info()"
   ]
  },
  {
   "cell_type": "code",
   "execution_count": 22,
   "metadata": {},
   "outputs": [
    {
     "data": {
      "text/plain": [
       "86772"
      ]
     },
     "execution_count": 22,
     "metadata": {},
     "output_type": "execute_result"
    }
   ],
   "source": [
    "# Create list of track_ids\n",
    "track_ids = []\n",
    "for track in tracks:\n",
    "    track_ids.append(track[0])\n",
    "\n",
    "track_ids = set(track_ids)\n",
    "track_ids = list(track_ids)\n",
    "\n",
    "len(track_ids)"
   ]
  },
  {
   "cell_type": "markdown",
   "metadata": {},
   "source": [
    "## Get Audio Features"
   ]
  },
  {
   "cell_type": "code",
   "execution_count": 23,
   "metadata": {},
   "outputs": [
    {
     "data": {
      "application/vnd.jupyter.widget-view+json": {
       "model_id": "37386b9ba4744ba9b7375c84e2d2664e",
       "version_major": 2,
       "version_minor": 0
      },
      "text/plain": [
       "  0%|          | 0/868 [00:00<?, ?it/s]"
      ]
     },
     "metadata": {},
     "output_type": "display_data"
    }
   ],
   "source": [
    "# Limit to request audio features is 100\n",
    "chunk_size = 100\n",
    "\n",
    "# Request audio features from Spotify\n",
    "audio_feat = []\n",
    "for start_index in tqdm(range(len(track_ids))[::chunk_size]):\n",
    "    end_index = start_index + chunk_size\n",
    "    chunk = track_ids[start_index:end_index]\n",
    "    audio_feat.extend(sp.audio_features(tracks=chunk))\n",
    "\n",
    "#audio_feat"
   ]
  },
  {
   "cell_type": "code",
   "execution_count": 24,
   "metadata": {},
   "outputs": [
    {
     "data": {
      "text/plain": [
       "86772"
      ]
     },
     "execution_count": 24,
     "metadata": {},
     "output_type": "execute_result"
    }
   ],
   "source": [
    "len(audio_feat)"
   ]
  },
  {
   "cell_type": "code",
   "execution_count": 25,
   "metadata": {},
   "outputs": [
    {
     "data": {
      "text/plain": [
       "86766"
      ]
     },
     "execution_count": 25,
     "metadata": {},
     "output_type": "execute_result"
    }
   ],
   "source": [
    "# Some songs don't have audio features (None)\n",
    "# Skip those to be able to create a dataframe\n",
    "audio_feat = [i for i in audio_feat if i is not None]\n",
    "len(audio_feat)"
   ]
  },
  {
   "cell_type": "code",
   "execution_count": 26,
   "metadata": {},
   "outputs": [],
   "source": [
    "# Create dataframe for audio features\n",
    "df_2 = pd.DataFrame(audio_feat)"
   ]
  },
  {
   "cell_type": "code",
   "execution_count": 27,
   "metadata": {},
   "outputs": [
    {
     "data": {
      "text/html": [
       "<div>\n",
       "<style scoped>\n",
       "    .dataframe tbody tr th:only-of-type {\n",
       "        vertical-align: middle;\n",
       "    }\n",
       "\n",
       "    .dataframe tbody tr th {\n",
       "        vertical-align: top;\n",
       "    }\n",
       "\n",
       "    .dataframe thead th {\n",
       "        text-align: right;\n",
       "    }\n",
       "</style>\n",
       "<table border=\"1\" class=\"dataframe\">\n",
       "  <thead>\n",
       "    <tr style=\"text-align: right;\">\n",
       "      <th></th>\n",
       "      <th>danceability</th>\n",
       "      <th>energy</th>\n",
       "      <th>key</th>\n",
       "      <th>loudness</th>\n",
       "      <th>mode</th>\n",
       "      <th>speechiness</th>\n",
       "      <th>acousticness</th>\n",
       "      <th>instrumentalness</th>\n",
       "      <th>liveness</th>\n",
       "      <th>valence</th>\n",
       "      <th>tempo</th>\n",
       "      <th>type</th>\n",
       "      <th>id</th>\n",
       "      <th>uri</th>\n",
       "      <th>track_href</th>\n",
       "      <th>analysis_url</th>\n",
       "      <th>duration_ms</th>\n",
       "      <th>time_signature</th>\n",
       "    </tr>\n",
       "  </thead>\n",
       "  <tbody>\n",
       "    <tr>\n",
       "      <th>0</th>\n",
       "      <td>0.5890</td>\n",
       "      <td>0.615</td>\n",
       "      <td>11</td>\n",
       "      <td>-6.638</td>\n",
       "      <td>0</td>\n",
       "      <td>0.0308</td>\n",
       "      <td>0.8560</td>\n",
       "      <td>0.867000</td>\n",
       "      <td>0.2720</td>\n",
       "      <td>0.596</td>\n",
       "      <td>133.982</td>\n",
       "      <td>audio_features</td>\n",
       "      <td>1mXwkgjw5NLxjc8rWWJnMk</td>\n",
       "      <td>spotify:track:1mXwkgjw5NLxjc8rWWJnMk</td>\n",
       "      <td>https://api.spotify.com/v1/tracks/1mXwkgjw5NLx...</td>\n",
       "      <td>https://api.spotify.com/v1/audio-analysis/1mXw...</td>\n",
       "      <td>510013</td>\n",
       "      <td>4</td>\n",
       "    </tr>\n",
       "    <tr>\n",
       "      <th>1</th>\n",
       "      <td>0.4120</td>\n",
       "      <td>0.965</td>\n",
       "      <td>9</td>\n",
       "      <td>-5.652</td>\n",
       "      <td>1</td>\n",
       "      <td>0.0678</td>\n",
       "      <td>0.0332</td>\n",
       "      <td>0.000000</td>\n",
       "      <td>0.3270</td>\n",
       "      <td>0.361</td>\n",
       "      <td>137.022</td>\n",
       "      <td>audio_features</td>\n",
       "      <td>1qJUYVFcLOmyEjzPoML22x</td>\n",
       "      <td>spotify:track:1qJUYVFcLOmyEjzPoML22x</td>\n",
       "      <td>https://api.spotify.com/v1/tracks/1qJUYVFcLOmy...</td>\n",
       "      <td>https://api.spotify.com/v1/audio-analysis/1qJU...</td>\n",
       "      <td>399333</td>\n",
       "      <td>4</td>\n",
       "    </tr>\n",
       "    <tr>\n",
       "      <th>2</th>\n",
       "      <td>0.3310</td>\n",
       "      <td>0.619</td>\n",
       "      <td>0</td>\n",
       "      <td>-7.770</td>\n",
       "      <td>1</td>\n",
       "      <td>0.0280</td>\n",
       "      <td>0.0183</td>\n",
       "      <td>0.084700</td>\n",
       "      <td>0.1370</td>\n",
       "      <td>0.223</td>\n",
       "      <td>101.853</td>\n",
       "      <td>audio_features</td>\n",
       "      <td>51tBxI8vMc8DY99TCjGb5h</td>\n",
       "      <td>spotify:track:51tBxI8vMc8DY99TCjGb5h</td>\n",
       "      <td>https://api.spotify.com/v1/tracks/51tBxI8vMc8D...</td>\n",
       "      <td>https://api.spotify.com/v1/audio-analysis/51tB...</td>\n",
       "      <td>264288</td>\n",
       "      <td>5</td>\n",
       "    </tr>\n",
       "    <tr>\n",
       "      <th>3</th>\n",
       "      <td>0.0892</td>\n",
       "      <td>0.913</td>\n",
       "      <td>4</td>\n",
       "      <td>-3.254</td>\n",
       "      <td>1</td>\n",
       "      <td>0.0610</td>\n",
       "      <td>0.0320</td>\n",
       "      <td>0.004920</td>\n",
       "      <td>0.2860</td>\n",
       "      <td>0.508</td>\n",
       "      <td>165.684</td>\n",
       "      <td>audio_features</td>\n",
       "      <td>6TRu6X6gkRlsR4JTnOibMA</td>\n",
       "      <td>spotify:track:6TRu6X6gkRlsR4JTnOibMA</td>\n",
       "      <td>https://api.spotify.com/v1/tracks/6TRu6X6gkRls...</td>\n",
       "      <td>https://api.spotify.com/v1/audio-analysis/6TRu...</td>\n",
       "      <td>151427</td>\n",
       "      <td>4</td>\n",
       "    </tr>\n",
       "    <tr>\n",
       "      <th>4</th>\n",
       "      <td>0.5460</td>\n",
       "      <td>0.319</td>\n",
       "      <td>11</td>\n",
       "      <td>-8.483</td>\n",
       "      <td>0</td>\n",
       "      <td>0.0278</td>\n",
       "      <td>0.6430</td>\n",
       "      <td>0.000054</td>\n",
       "      <td>0.0827</td>\n",
       "      <td>0.135</td>\n",
       "      <td>108.913</td>\n",
       "      <td>audio_features</td>\n",
       "      <td>2J9rPzqtsatSzZNVFX0ea8</td>\n",
       "      <td>spotify:track:2J9rPzqtsatSzZNVFX0ea8</td>\n",
       "      <td>https://api.spotify.com/v1/tracks/2J9rPzqtsatS...</td>\n",
       "      <td>https://api.spotify.com/v1/audio-analysis/2J9r...</td>\n",
       "      <td>195600</td>\n",
       "      <td>4</td>\n",
       "    </tr>\n",
       "  </tbody>\n",
       "</table>\n",
       "</div>"
      ],
      "text/plain": [
       "   danceability  energy  key  loudness  mode  speechiness  acousticness  \\\n",
       "0        0.5890   0.615   11    -6.638     0       0.0308        0.8560   \n",
       "1        0.4120   0.965    9    -5.652     1       0.0678        0.0332   \n",
       "2        0.3310   0.619    0    -7.770     1       0.0280        0.0183   \n",
       "3        0.0892   0.913    4    -3.254     1       0.0610        0.0320   \n",
       "4        0.5460   0.319   11    -8.483     0       0.0278        0.6430   \n",
       "\n",
       "   instrumentalness  liveness  valence    tempo            type  \\\n",
       "0          0.867000    0.2720    0.596  133.982  audio_features   \n",
       "1          0.000000    0.3270    0.361  137.022  audio_features   \n",
       "2          0.084700    0.1370    0.223  101.853  audio_features   \n",
       "3          0.004920    0.2860    0.508  165.684  audio_features   \n",
       "4          0.000054    0.0827    0.135  108.913  audio_features   \n",
       "\n",
       "                       id                                   uri  \\\n",
       "0  1mXwkgjw5NLxjc8rWWJnMk  spotify:track:1mXwkgjw5NLxjc8rWWJnMk   \n",
       "1  1qJUYVFcLOmyEjzPoML22x  spotify:track:1qJUYVFcLOmyEjzPoML22x   \n",
       "2  51tBxI8vMc8DY99TCjGb5h  spotify:track:51tBxI8vMc8DY99TCjGb5h   \n",
       "3  6TRu6X6gkRlsR4JTnOibMA  spotify:track:6TRu6X6gkRlsR4JTnOibMA   \n",
       "4  2J9rPzqtsatSzZNVFX0ea8  spotify:track:2J9rPzqtsatSzZNVFX0ea8   \n",
       "\n",
       "                                          track_href  \\\n",
       "0  https://api.spotify.com/v1/tracks/1mXwkgjw5NLx...   \n",
       "1  https://api.spotify.com/v1/tracks/1qJUYVFcLOmy...   \n",
       "2  https://api.spotify.com/v1/tracks/51tBxI8vMc8D...   \n",
       "3  https://api.spotify.com/v1/tracks/6TRu6X6gkRls...   \n",
       "4  https://api.spotify.com/v1/tracks/2J9rPzqtsatS...   \n",
       "\n",
       "                                        analysis_url  duration_ms  \\\n",
       "0  https://api.spotify.com/v1/audio-analysis/1mXw...       510013   \n",
       "1  https://api.spotify.com/v1/audio-analysis/1qJU...       399333   \n",
       "2  https://api.spotify.com/v1/audio-analysis/51tB...       264288   \n",
       "3  https://api.spotify.com/v1/audio-analysis/6TRu...       151427   \n",
       "4  https://api.spotify.com/v1/audio-analysis/2J9r...       195600   \n",
       "\n",
       "   time_signature  \n",
       "0               4  \n",
       "1               4  \n",
       "2               5  \n",
       "3               4  \n",
       "4               4  "
      ]
     },
     "execution_count": 27,
     "metadata": {},
     "output_type": "execute_result"
    }
   ],
   "source": [
    "df_2.head()"
   ]
  },
  {
   "cell_type": "code",
   "execution_count": 28,
   "metadata": {},
   "outputs": [
    {
     "name": "stdout",
     "output_type": "stream",
     "text": [
      "<class 'pandas.core.frame.DataFrame'>\n",
      "RangeIndex: 86766 entries, 0 to 86765\n",
      "Data columns (total 18 columns):\n",
      " #   Column            Non-Null Count  Dtype  \n",
      "---  ------            --------------  -----  \n",
      " 0   danceability      86766 non-null  float64\n",
      " 1   energy            86766 non-null  float64\n",
      " 2   key               86766 non-null  int64  \n",
      " 3   loudness          86766 non-null  float64\n",
      " 4   mode              86766 non-null  int64  \n",
      " 5   speechiness       86766 non-null  float64\n",
      " 6   acousticness      86766 non-null  float64\n",
      " 7   instrumentalness  86766 non-null  float64\n",
      " 8   liveness          86766 non-null  float64\n",
      " 9   valence           86766 non-null  float64\n",
      " 10  tempo             86766 non-null  float64\n",
      " 11  type              86766 non-null  object \n",
      " 12  id                86766 non-null  object \n",
      " 13  uri               86766 non-null  object \n",
      " 14  track_href        86766 non-null  object \n",
      " 15  analysis_url      86766 non-null  object \n",
      " 16  duration_ms       86766 non-null  int64  \n",
      " 17  time_signature    86766 non-null  int64  \n",
      "dtypes: float64(9), int64(4), object(5)\n",
      "memory usage: 11.9+ MB\n"
     ]
    }
   ],
   "source": [
    "df_2.info()"
   ]
  },
  {
   "cell_type": "code",
   "execution_count": 29,
   "metadata": {},
   "outputs": [],
   "source": [
    "df = pd.merge(df_1, df_2, on=\"id\")"
   ]
  },
  {
   "cell_type": "code",
   "execution_count": 30,
   "metadata": {},
   "outputs": [
    {
     "name": "stdout",
     "output_type": "stream",
     "text": [
      "<class 'pandas.core.frame.DataFrame'>\n",
      "Int64Index: 86766 entries, 0 to 86765\n",
      "Data columns (total 20 columns):\n",
      " #   Column            Non-Null Count  Dtype  \n",
      "---  ------            --------------  -----  \n",
      " 0   id                86766 non-null  object \n",
      " 1   song              86766 non-null  object \n",
      " 2   artist            86766 non-null  object \n",
      " 3   danceability      86766 non-null  float64\n",
      " 4   energy            86766 non-null  float64\n",
      " 5   key               86766 non-null  int64  \n",
      " 6   loudness          86766 non-null  float64\n",
      " 7   mode              86766 non-null  int64  \n",
      " 8   speechiness       86766 non-null  float64\n",
      " 9   acousticness      86766 non-null  float64\n",
      " 10  instrumentalness  86766 non-null  float64\n",
      " 11  liveness          86766 non-null  float64\n",
      " 12  valence           86766 non-null  float64\n",
      " 13  tempo             86766 non-null  float64\n",
      " 14  type              86766 non-null  object \n",
      " 15  uri               86766 non-null  object \n",
      " 16  track_href        86766 non-null  object \n",
      " 17  analysis_url      86766 non-null  object \n",
      " 18  duration_ms       86766 non-null  int64  \n",
      " 19  time_signature    86766 non-null  int64  \n",
      "dtypes: float64(9), int64(4), object(7)\n",
      "memory usage: 13.9+ MB\n"
     ]
    }
   ],
   "source": [
    "df.info()"
   ]
  },
  {
   "cell_type": "code",
   "execution_count": 31,
   "metadata": {},
   "outputs": [
    {
     "data": {
      "text/plain": [
       "False    86766\n",
       "dtype: int64"
      ]
     },
     "execution_count": 31,
     "metadata": {},
     "output_type": "execute_result"
    }
   ],
   "source": [
    "# Check for duplicates\n",
    "df.duplicated().value_counts()"
   ]
  },
  {
   "cell_type": "code",
   "execution_count": 34,
   "metadata": {},
   "outputs": [],
   "source": [
    "# Export to CSV\n",
    "df.to_csv(\"../Files/spotify_songs.csv\", index=False)"
   ]
  }
 ],
 "metadata": {
  "kernelspec": {
   "display_name": "Python 3",
   "language": "python",
   "name": "python3"
  },
  "language_info": {
   "codemirror_mode": {
    "name": "ipython",
    "version": 3
   },
   "file_extension": ".py",
   "mimetype": "text/x-python",
   "name": "python",
   "nbconvert_exporter": "python",
   "pygments_lexer": "ipython3",
   "version": "3.8.8"
  },
  "toc": {
   "base_numbering": 1,
   "nav_menu": {},
   "number_sections": false,
   "sideBar": true,
   "skip_h1_title": true,
   "title_cell": "Table of Contents",
   "title_sidebar": "Contents",
   "toc_cell": false,
   "toc_position": {},
   "toc_section_display": true,
   "toc_window_display": true
  },
  "varInspector": {
   "cols": {
    "lenName": 16,
    "lenType": 16,
    "lenVar": 40
   },
   "kernels_config": {
    "python": {
     "delete_cmd_postfix": "",
     "delete_cmd_prefix": "del ",
     "library": "var_list.py",
     "varRefreshCmd": "print(var_dic_list())"
    },
    "r": {
     "delete_cmd_postfix": ") ",
     "delete_cmd_prefix": "rm(",
     "library": "var_list.r",
     "varRefreshCmd": "cat(var_dic_list()) "
    }
   },
   "types_to_exclude": [
    "module",
    "function",
    "builtin_function_or_method",
    "instance",
    "_Feature"
   ],
   "window_display": false
  }
 },
 "nbformat": 4,
 "nbformat_minor": 4
}
